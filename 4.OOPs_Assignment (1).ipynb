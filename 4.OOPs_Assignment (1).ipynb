{
  "nbformat": 4,
  "nbformat_minor": 0,
  "metadata": {
    "colab": {
      "provenance": []
    },
    "kernelspec": {
      "name": "python3",
      "display_name": "Python 3"
    },
    "language_info": {
      "name": "python"
    }
  },
  "cells": [
    {
      "cell_type": "markdown",
      "source": [
        "# **THEORY QUESTION**"
      ],
      "metadata": {
        "id": "eqfFIiPThvo6"
      }
    },
    {
      "cell_type": "markdown",
      "source": [
        "### **1. What is Object-Oriented Programming (OOP)?**"
      ],
      "metadata": {
        "id": "AEXpOyVTiA5s"
      }
    },
    {
      "cell_type": "markdown",
      "source": [
        "**Answer**:\n",
        "\n",
        "Object-Oriented Programming (OOP) is a programming paradigm that uses \"objects\" to model real-world entities. These objects encapsulate data and the methods that operate on that data. The four main principles of OOP are encapsulation, abstraction, inheritance, and polymorphism."
      ],
      "metadata": {
        "id": "9-wWN6hOjauK"
      }
    },
    {
      "cell_type": "markdown",
      "source": [
        "### **2. What is a class in OOP?**"
      ],
      "metadata": {
        "id": "EEyruFYRkDQ4"
      }
    },
    {
      "cell_type": "markdown",
      "source": [
        "**Answer**:\n",
        "\n",
        "A class in OOP is a blueprint for creating objects. It defines attributes (data) and methods (functions) that the created objects (instances) will have. For example:"
      ],
      "metadata": {
        "id": "hpBUUIDzlgUh"
      }
    },
    {
      "cell_type": "code",
      "source": [
        "class Dog:\n",
        "    def __init__(self, name):\n",
        "        self.name = name\n",
        "    def bark(self):\n",
        "        print(\"Woof!\")"
      ],
      "metadata": {
        "id": "QlbLqRhwfyyK"
      },
      "execution_count": 1,
      "outputs": []
    },
    {
      "cell_type": "markdown",
      "source": [
        "### **3. What is an object in OOP?**\n",
        "\n",
        "**Answer**:\n",
        "\n",
        "An object is an instance of a class. It represents a specific implementation with actual values for the attributes defined in the class."
      ],
      "metadata": {
        "id": "XpVwiE_ZmiAt"
      }
    },
    {
      "cell_type": "markdown",
      "source": [
        "### **4. What is the difference between abstraction and encapsulation?**\n",
        "\n",
        "**Answer**:\n",
        "\n",
        "* **Abstraction** hides complex implementation details and shows only the essential features.\n",
        "\n",
        "* **Encapsulation** binds data and methods into a single unit and restricts access to some of the object’s components."
      ],
      "metadata": {
        "id": "GG8gq5ESm5Y6"
      }
    },
    {
      "cell_type": "markdown",
      "source": [
        "### **5. What are dunder methods in Python?**\n",
        "\n",
        "**Answer**:\n",
        "\n",
        "Dunder (double underscore) methods are special methods in Python like `__init__`, `__str__`, and `__len__`, used to define behaviors for objects like construction, printing, and length."
      ],
      "metadata": {
        "id": "LvvE1m59nzLz"
      }
    },
    {
      "cell_type": "markdown",
      "source": [
        "### **6. Explain the concept of inheritance in OOP.**\n",
        "\n",
        "**Answer**:\n",
        "\n",
        "Inheritance allows a class to inherit attributes and methods from another class. This helps reuse code and establish relationships between classes."
      ],
      "metadata": {
        "id": "AuKX36LBoXWB"
      }
    },
    {
      "cell_type": "code",
      "source": [
        "class Animal:\n",
        "    def speak(self):\n",
        "        print(\"Animal speaks\")\n",
        "\n",
        "class Dog(Animal):\n",
        "    def speak(self):\n",
        "        print(\"Bark!\")"
      ],
      "metadata": {
        "id": "kz7Iq7JbgW86"
      },
      "execution_count": 2,
      "outputs": []
    },
    {
      "cell_type": "markdown",
      "source": [
        "### **7. What is polymorphism in OOP?**\n",
        "\n",
        "**Answer**:\n",
        "\n",
        "Polymorphism allows objects of different classes to be treated as instances of the same class through a common interface."
      ],
      "metadata": {
        "id": "tzlO5sV1oxo3"
      }
    },
    {
      "cell_type": "code",
      "source": [
        "class Bird:\n",
        "    def fly(self):\n",
        "        print(\"Bird flies\")\n",
        "\n",
        "class Sparrow(Bird):\n",
        "    def fly(self):\n",
        "        print(\"Sparrow flies\")"
      ],
      "metadata": {
        "id": "puoXUGwegnj2"
      },
      "execution_count": null,
      "outputs": []
    },
    {
      "cell_type": "markdown",
      "source": [
        "### **8. How is encapsulation achieved in Python?**\n",
        "\n",
        "**Answer**:\n",
        "\n",
        "By using private variables (prefixing with `_` or `__`) and providing getter and setter methods to control access."
      ],
      "metadata": {
        "id": "VebyYvZEpB-U"
      }
    },
    {
      "cell_type": "code",
      "source": [
        "class Bank:\n",
        "    def __init__(self):\n",
        "        self.__balance = 0\n",
        "    def deposit(self, amount):\n",
        "        self.__balance += amount"
      ],
      "metadata": {
        "id": "I7lTwkdwg1Fa"
      },
      "execution_count": null,
      "outputs": []
    },
    {
      "cell_type": "markdown",
      "source": [
        "### **9. What is a constructor in Python?**\n",
        "\n",
        "**Answer**:\n",
        "\n",
        "The `__init__` method in a class is a constructor that initializes object attributes when an object is created."
      ],
      "metadata": {
        "id": "pkW1vfuUpWo7"
      }
    },
    {
      "cell_type": "markdown",
      "source": [
        "### **10. What are class and static methods in Python?**\n",
        "\n",
        "**Answer**:\n",
        "\n",
        "* `@classmethod`: Takes `cls` as the first argument and can modify class state.\n",
        "\n",
        "* `@staticmethod`: Does not take `self` or `cls`, behaves like a regular function within a class."
      ],
      "metadata": {
        "id": "lI4Ye60Fp6rk"
      }
    },
    {
      "cell_type": "markdown",
      "source": [
        "### **11. What is method overloading in Python?**\n",
        "\n",
        "**Answer**:\n",
        "\n",
        "Python does not support traditional method overloading. Instead, we use default arguments or `*args`/`**kwargs`."
      ],
      "metadata": {
        "id": "FlFk7V_pqxUn"
      }
    },
    {
      "cell_type": "markdown",
      "source": [
        "### **12. What is method overriding in OOP?**\n",
        "\n",
        "**Answer**:\n",
        "\n",
        "Method overriding occurs when a subclass provides a specific implementation of a method already defined in its parent class."
      ],
      "metadata": {
        "id": "EYrvncRircXT"
      }
    },
    {
      "cell_type": "markdown",
      "source": [
        "### **13. What is a property decorator in Python?**\n",
        "\n",
        "**Answer**:\n",
        "\n",
        "`@property` is used to define a method as a property, allowing method access like an attribute."
      ],
      "metadata": {
        "id": "t_NSG0tgrk2e"
      }
    },
    {
      "cell_type": "markdown",
      "source": [
        "### **14. Why is polymorphism important in OOP?**\n",
        "\n",
        "**Answer**:\n",
        "\n",
        "Polymorphism increases flexibility and reusability of code, allowing different classes to be treated uniformly."
      ],
      "metadata": {
        "id": "h-H7KIkRr478"
      }
    },
    {
      "cell_type": "markdown",
      "source": [
        "### **15. What is an abstract class in Python?**\n",
        "\n",
        "**Answer**:\n",
        "\n",
        "An abstract class cannot be instantiated and may have abstract methods. It is defined using the abc module."
      ],
      "metadata": {
        "id": "Y-qLgb1msJjM"
      }
    },
    {
      "cell_type": "markdown",
      "source": [
        "### **16. What are the advantages of OOP?**\n",
        "\n",
        "**Answer**:\n",
        "\n",
        "* Reusability through inheritance\n",
        "\n",
        "* Modularity via encapsulation\n",
        "\n",
        "* Flexibility with polymorphism\n",
        "\n",
        "* Maintainability"
      ],
      "metadata": {
        "id": "yK06Vh8VsUvA"
      }
    },
    {
      "cell_type": "markdown",
      "source": [
        "### **17. What is the difference between a class variable and an instance variable?**\n",
        "\n",
        "**Answer**:\n",
        "\n",
        "**1. Class Variable**\n",
        "* Shared across all instances of the class.\n",
        "\n",
        "* Defined inside the class but outside any methods.\n",
        "\n",
        "* Changing a class variable affects all instances (unless it's shadowed by an instance variable).\n",
        "\n",
        "**Example**:"
      ],
      "metadata": {
        "id": "l-6B3EpKhjvV"
      }
    },
    {
      "cell_type": "code",
      "source": [
        "class Dog:\n",
        "    species = \"Canine\"  # class variable\n",
        "\n",
        "    def __init__(self, name):\n",
        "        self.name = name  # instance variable\n"
      ],
      "metadata": {
        "id": "LG5JMyTeiSFr"
      },
      "execution_count": 3,
      "outputs": []
    },
    {
      "cell_type": "markdown",
      "source": [
        "**2. Instance Variable**\n",
        "* Unique to each instance of the class.\n",
        "\n",
        "* Usually defined using `self` inside the `__init__` method (or other methods).\n",
        "\n",
        "* Changing an instance variable only affects that specific instance.\n",
        "\n",
        "**Example**:"
      ],
      "metadata": {
        "id": "v5agPkAkiZxT"
      }
    },
    {
      "cell_type": "code",
      "source": [
        "dog1 = Dog(\"Fido\")\n",
        "dog2 = Dog(\"Buddy\")\n",
        "\n",
        "dog1.name = \"Max\"  # only changes dog1's name\n",
        "Dog.species = \"Doggo\"  # changes species for all instances"
      ],
      "metadata": {
        "id": "J__YSZGNi05S"
      },
      "execution_count": 4,
      "outputs": []
    },
    {
      "cell_type": "markdown",
      "source": [
        "### **18. What is multiple inheritance in Python?**\n",
        "\n",
        "**Answer**:\n",
        "\n",
        "Multiple inheritance in Python means a class can inherit attributes and methods from more than one parent class."
      ],
      "metadata": {
        "id": "Wc0GPPtIjKje"
      }
    },
    {
      "cell_type": "code",
      "source": [
        "class A:\n",
        "    def speak(self):\n",
        "        print(\"A speaks\")\n",
        "\n",
        "class B:\n",
        "    def talk(self):\n",
        "        print(\"B talks\")\n",
        "\n",
        "class C(A, B):  # Multiple inheritance\n",
        "    pass\n",
        "\n",
        "obj = C()\n",
        "obj.speak()  # From class A\n",
        "obj.talk()   # From class B"
      ],
      "metadata": {
        "colab": {
          "base_uri": "https://localhost:8080/"
        },
        "id": "UFWlHb2JkFYj",
        "outputId": "c22d13ff-5380-44d4-82bf-d3c48012a895"
      },
      "execution_count": 5,
      "outputs": [
        {
          "output_type": "stream",
          "name": "stdout",
          "text": [
            "A speaks\n",
            "B talks\n"
          ]
        }
      ]
    },
    {
      "cell_type": "markdown",
      "source": [
        "Python uses the **Method Resolution Order (MRO)** to decide which method to use when there’s overlap."
      ],
      "metadata": {
        "id": "zASCWnT3kI-y"
      }
    },
    {
      "cell_type": "markdown",
      "source": [
        "### **19. Explain the purpose of ″_ _str_ _ ′ and ′_ _repr_ _′ ′ methods in Python.**\n",
        "\n",
        "**Answer**:\n",
        "\n",
        "The `__str__` and `__repr__` methods in Python are special methods used to define how an object is represented as a **string**.\n",
        "\n",
        "\n",
        "🔹 `__str__`**: User-Friendly String**\n",
        "\n",
        "* Called by `str(object)` and the `print()` function.\n",
        "\n",
        "* Should return a **readable, user-friendly** string.\n",
        "\n",
        "* Purpose: Representation for **end users**."
      ],
      "metadata": {
        "id": "TWoUV9QpkWPb"
      }
    },
    {
      "cell_type": "code",
      "source": [
        "class Person:\n",
        "    def __init__(self, name):\n",
        "        self.name = name\n",
        "\n",
        "    def __str__(self):\n",
        "        return f\"Person named {self.name}\""
      ],
      "metadata": {
        "id": "57FknnPLm44m"
      },
      "execution_count": 6,
      "outputs": []
    },
    {
      "cell_type": "markdown",
      "source": [
        "🔹 `__repr__`**: Developer-Friendly String**\n",
        "\n",
        "Called by `repr(object)` or when you type the object name in an interactive shell.\n",
        "\n",
        "Should return a **precise, unambiguous** string—ideally valid Python code.\n",
        "\n",
        "Purpose: Debugging and **developer representation**."
      ],
      "metadata": {
        "id": "MAwKDJBdnLim"
      }
    },
    {
      "cell_type": "code",
      "source": [
        "    def __repr__(self):\n",
        "        return f\"Person('{self.name}')\""
      ],
      "metadata": {
        "id": "cfmYY5dYnlEt"
      },
      "execution_count": 7,
      "outputs": []
    },
    {
      "cell_type": "markdown",
      "source": [
        "**Example in Action:**"
      ],
      "metadata": {
        "id": "HrxR6gi0nvqc"
      }
    },
    {
      "cell_type": "code",
      "source": [
        "p = Person(\"Alice\")\n",
        "\n",
        "print(p)         # Calls __str__: Person named Alice\n",
        "print(repr(p))   # Calls __repr__: Person('Alice')"
      ],
      "metadata": {
        "colab": {
          "base_uri": "https://localhost:8080/"
        },
        "id": "XIoThs5Rnq1g",
        "outputId": "368f633a-0aef-42fd-86c0-02d548fa8641"
      },
      "execution_count": 8,
      "outputs": [
        {
          "output_type": "stream",
          "name": "stdout",
          "text": [
            "Person named Alice\n",
            "<__main__.Person object at 0x78811923b590>\n"
          ]
        }
      ]
    },
    {
      "cell_type": "markdown",
      "source": [
        "### **20. What is the significance of the ‘super()’ function in Python.**\n",
        "\n",
        "**Answer**:\n",
        "\n",
        "The `super()` function in Python is used to **call methods from a parent or sibling class**. It's especially important in **inheritance**, including **multiple inheritance**, to ensure proper method resolution and to avoid redundancy.\n",
        "\n",
        "\n",
        "🔹 **Key Uses of** `super()`:\n",
        "\n",
        "* **Access parent class methods** without hardcoding the parent class name.\n",
        "\n",
        "* **Maintain the method resolution order (MRO)** in complex inheritance structures.\n",
        "\n",
        "* **Avoid duplicate code** and improve maintainability.\n",
        "\n",
        "**Example**:"
      ],
      "metadata": {
        "id": "S1oRATVrn6Ub"
      }
    },
    {
      "cell_type": "code",
      "source": [
        "class Parent:\n",
        "    def greet(self):\n",
        "        print(\"Hello from Parent\")\n",
        "\n",
        "class Child(Parent):\n",
        "    def greet(self):\n",
        "        super().greet()  # Calls Parent.greet()\n",
        "        print(\"Hello from Child\")\n",
        "\n",
        "c = Child()\n",
        "c.greet()"
      ],
      "metadata": {
        "colab": {
          "base_uri": "https://localhost:8080/"
        },
        "id": "n1gkZdhJpEvp",
        "outputId": "ab762e9b-bc05-4f0b-b628-9c6fee009354"
      },
      "execution_count": 9,
      "outputs": [
        {
          "output_type": "stream",
          "name": "stdout",
          "text": [
            "Hello from Parent\n",
            "Hello from Child\n"
          ]
        }
      ]
    },
    {
      "cell_type": "markdown",
      "source": [
        "### **21. What is the significance of the _ del _ method in Python?**\n",
        "\n",
        "**Answer**:\n",
        "\n",
        "The `__del__` method in Python is a destructor—it is called when an object is about to be destroyed, typically when there are no more references to it.\n",
        "\n",
        "🔹 **Purpose of** `__del__`:\n",
        "\n",
        "* Used to perform cleanup actions like:\n",
        "\n",
        "  * Closing files\n",
        "\n",
        "  * Releasing network connections\n",
        "\n",
        "  * Deleting temporary resources\n",
        "\n",
        "* It gives you a chance to define custom teardown behavior for your objects.\n",
        "\n",
        "🔹 **Example**:"
      ],
      "metadata": {
        "id": "kp-5TXaCpYXK"
      }
    },
    {
      "cell_type": "code",
      "source": [
        "class FileHandler:\n",
        "    def __init__(self, filename):\n",
        "        self.file = open(filename, 'w')\n",
        "\n",
        "    def __del__(self):\n",
        "        print(\"Closing file\")\n",
        "        self.file.close()"
      ],
      "metadata": {
        "id": "tG8-9KOfrMKg"
      },
      "execution_count": 10,
      "outputs": []
    },
    {
      "cell_type": "markdown",
      "source": [
        "When the object is deleted (or the program ends), `__del__` is automatically called, closing the file."
      ],
      "metadata": {
        "id": "N7jL-iASrV21"
      }
    },
    {
      "cell_type": "markdown",
      "source": [
        "### **22. What is the difference between @staticmethod and @classmethod in Python?**\n",
        "\n",
        "**Answer**:\n",
        "\n",
        "The difference between `@staticmethod` and `@classmethod` in Python lies in **what they receive as the first argument and how they interact with the class**.\n",
        "\n",
        "🔹 `@staticmethod`\n",
        "\n",
        "* **Does not take** `self` or `cls` as the first parameter.\n",
        "\n",
        "* Behaves like a **regular function**, just lives inside the class for organization.\n",
        "\n",
        "* **Can't access** or modify class or instance state."
      ],
      "metadata": {
        "id": "hOQ_3fRtrbx9"
      }
    },
    {
      "cell_type": "code",
      "source": [
        "class MyClass:\n",
        "    @staticmethod\n",
        "    def greet():\n",
        "        print(\"Hello!\")\n",
        ""
      ],
      "metadata": {
        "id": "XFtlTVFTsjsS"
      },
      "execution_count": 11,
      "outputs": []
    },
    {
      "cell_type": "markdown",
      "source": [
        "🔹 `@classmethod`\n",
        "\n",
        "\n",
        "* Takes `cls` (the class itself) as the **first argument**.\n",
        "\n",
        "* Can access and **modify class-level state**.\n",
        "\n",
        "* Often used for **alternative constructors**."
      ],
      "metadata": {
        "id": "KxaKFOucsrXS"
      }
    },
    {
      "cell_type": "code",
      "source": [
        "class MyClass:\n",
        "    count = 0\n",
        "\n",
        "    @classmethod\n",
        "    def increment(cls):\n",
        "        cls.count += 1"
      ],
      "metadata": {
        "id": "kIJGooNNtCpE"
      },
      "execution_count": 12,
      "outputs": []
    },
    {
      "cell_type": "markdown",
      "source": [
        "### **23. How does polymorphism work in Python with inheritance?**\n",
        "\n",
        "**Answer**:\n",
        "\n",
        "Objects of different classes can be treated as objects of a common base class, especially when they share the same method name, allowing the correct method to be called dynamically at runtime.\n",
        "\n",
        "🔹 **How it works**:\n",
        "\n",
        "* Python uses **dynamic (runtime) method resolution**.\n",
        "\n",
        "* Even if a variable is typed as the base class, Python checks the **actual object type** to decide which method to run.\n",
        "\n",
        "**Example**:"
      ],
      "metadata": {
        "id": "yMI8sl97tLQL"
      }
    },
    {
      "cell_type": "code",
      "source": [
        "class Animal:\n",
        "    def speak(self):\n",
        "        print(\"Animal speaks\")\n",
        "\n",
        "class Dog(Animal):\n",
        "    def speak(self):\n",
        "        print(\"Dog barks\")\n",
        "\n",
        "class Cat(Animal):\n",
        "    def speak(self):\n",
        "        print(\"Cat meows\")\n",
        "\n",
        "# Polymorphic behavior\n",
        "def make_sound(animal):\n",
        "    animal.speak()\n",
        "\n",
        "make_sound(Dog())\n",
        "make_sound(Cat())"
      ],
      "metadata": {
        "colab": {
          "base_uri": "https://localhost:8080/"
        },
        "id": "jLG_EeRWuKri",
        "outputId": "208e3d4b-2145-4596-d68b-c160ba736e00"
      },
      "execution_count": 14,
      "outputs": [
        {
          "output_type": "stream",
          "name": "stdout",
          "text": [
            "Dog barks\n",
            "Cat meows\n"
          ]
        }
      ]
    },
    {
      "cell_type": "markdown",
      "source": [
        "### **24. What is method chaining in Python OOP?**\n",
        "\n",
        "**Answer**:\n",
        "\n",
        "**Method chaining** is a technique where multiple method calls are **linked together in a single statement**, by having each method return `self`.\n",
        "\n",
        "🔹 **How it Works**:\n",
        "\n",
        "Each method performs some action and then returns the **same object** `(self)` so that the next method can be called on it.\n",
        "\n",
        "**Example**:"
      ],
      "metadata": {
        "id": "rodgznqWuodq"
      }
    },
    {
      "cell_type": "code",
      "source": [
        "class TextBuilder:\n",
        "    def __init__(self):\n",
        "        self.text = \"\"\n",
        "\n",
        "    def add_hello(self):\n",
        "        self.text += \"Hello \"\n",
        "        return self\n",
        "\n",
        "    def add_world(self):\n",
        "        self.text += \"World!\"\n",
        "        return self\n",
        "\n",
        "    def show(self):\n",
        "        print(self.text)\n",
        "        return self\n",
        "\n",
        "# Method chaining in action\n",
        "TextBuilder().add_hello().add_world().show()"
      ],
      "metadata": {
        "colab": {
          "base_uri": "https://localhost:8080/"
        },
        "id": "KGeY1RiWvbC9",
        "outputId": "4ff2e583-0986-4926-d834-d00cd2025353"
      },
      "execution_count": 18,
      "outputs": [
        {
          "output_type": "stream",
          "name": "stdout",
          "text": [
            "Hello World!\n"
          ]
        },
        {
          "output_type": "execute_result",
          "data": {
            "text/plain": [
              "<__main__.TextBuilder at 0x788119259e10>"
            ]
          },
          "metadata": {},
          "execution_count": 18
        }
      ]
    },
    {
      "cell_type": "markdown",
      "source": [
        "### **25. What is the purpose of the __ call __ method in Python?**\n",
        "\n",
        "**Answer**:\n",
        "\n",
        "🔹 `__call__` **method in Python**\n",
        "\n",
        "The `__call__` method lets an **object behave like a function**—meaning you can \"call\" an instance **as if it were a function**.\n",
        "\n",
        "**Purpose**:\n",
        "\n",
        "To allow **instances of a class** to be invoked like functions by defining custom behavior when the object is called using parentheses `()`.\n",
        "\n",
        "**Example**:"
      ],
      "metadata": {
        "id": "oJJVRLegv6cg"
      }
    },
    {
      "cell_type": "code",
      "source": [
        "class Greeter:\n",
        "    def __init__(self, name):\n",
        "        self.name = name\n",
        "\n",
        "    def __call__(self):\n",
        "        print(f\"Hello, {self.name}!\")\n",
        "\n",
        "g = Greeter(\"Alice\")\n",
        "g()"
      ],
      "metadata": {
        "colab": {
          "base_uri": "https://localhost:8080/"
        },
        "id": "6f7hywAXxJs-",
        "outputId": "98eded58-cff7-4f2c-ede8-95130c260302"
      },
      "execution_count": 19,
      "outputs": [
        {
          "output_type": "stream",
          "name": "stdout",
          "text": [
            "Hello, Alice!\n"
          ]
        }
      ]
    },
    {
      "cell_type": "markdown",
      "source": [
        "# **PRACTICAL QUESTIONS**"
      ],
      "metadata": {
        "id": "AQ4EKWOKxk2t"
      }
    },
    {
      "cell_type": "markdown",
      "source": [
        "### **1. Create a parent class Animal with a method speak() that prints a generic message. Create a child class Dog that overrides the speak() method to print \"Bark!\".**"
      ],
      "metadata": {
        "id": "XOWz-e5zyALh"
      }
    },
    {
      "cell_type": "code",
      "source": [
        "class Animal:\n",
        "    def speak(self):\n",
        "        print(\"Animal speaks...\")\n",
        "\n",
        "class Dog(Animal):\n",
        "    def speak(self):\n",
        "        print(\"Bark!\")\n",
        "\n",
        "d = Dog()\n",
        "d.speak()\n"
      ],
      "metadata": {
        "colab": {
          "base_uri": "https://localhost:8080/"
        },
        "id": "szqiOJODyX2e",
        "outputId": "75ee8269-664e-4fad-a80b-f3a61f90145a"
      },
      "execution_count": 24,
      "outputs": [
        {
          "output_type": "stream",
          "name": "stdout",
          "text": [
            "Bark!\n"
          ]
        }
      ]
    },
    {
      "cell_type": "markdown",
      "source": [
        "### **2. Write a program to create an abstract class Shape with a method area(). Derive classes Circle and Rectangle from it and implement the area() method in both.**"
      ],
      "metadata": {
        "id": "vk6oe083zd1x"
      }
    },
    {
      "cell_type": "code",
      "source": [
        "from abc import ABC, abstractmethod\n",
        "\n",
        "class Shape(ABC):\n",
        "    @abstractmethod\n",
        "    def area(self):\n",
        "        pass\n",
        "\n",
        "class Circle(Shape):\n",
        "    def __init__(self, radius):\n",
        "        self.radius = radius\n",
        "\n",
        "    def area(self):\n",
        "        return 3.14 * self.radius * self.radius\n",
        "\n",
        "class Rectangle(Shape):\n",
        "    def __init__(self, width, height):\n",
        "        self.width = width\n",
        "        self.height = height\n",
        "\n",
        "    def area(self):\n",
        "        return self.width * self.height\n",
        "\n",
        "c = Circle(5)\n",
        "r = Rectangle(4, 6)\n",
        "print(c.area())\n",
        "print(r.area())"
      ],
      "metadata": {
        "colab": {
          "base_uri": "https://localhost:8080/"
        },
        "id": "Mujk7cACzqCr",
        "outputId": "65821129-1536-45dd-e8cc-b56ba042d802"
      },
      "execution_count": 25,
      "outputs": [
        {
          "output_type": "stream",
          "name": "stdout",
          "text": [
            "78.5\n",
            "24\n"
          ]
        }
      ]
    },
    {
      "cell_type": "markdown",
      "source": [
        "### **3. Implement a multi-level inheritance scenario where a class Vehicle has an attribute type. Derive a class Car and further derive a class ElectricCar that adds a battery attribute.**"
      ],
      "metadata": {
        "id": "ylzM-Qybz9VD"
      }
    },
    {
      "cell_type": "code",
      "source": [
        "class Vehicle:\n",
        "    def __init__(self, type):\n",
        "        self.type = type\n",
        "\n",
        "class Car(Vehicle):\n",
        "    def __init__(self, type, brand):\n",
        "        super().__init__(type)\n",
        "        self.brand = brand\n",
        "\n",
        "class ElectricCar(Car):\n",
        "    def __init__(self, type, brand, battery):\n",
        "        super().__init__(type, brand)\n",
        "        self.battery = battery\n",
        "\n",
        "e_car = ElectricCar(\"EV\", \"Tesla\", \"100 kWh\")\n",
        "print(e_car.type, e_car.brand, e_car.battery)\n"
      ],
      "metadata": {
        "colab": {
          "base_uri": "https://localhost:8080/"
        },
        "id": "XOMZ_th10Gj3",
        "outputId": "7d8287ed-ee3b-4bea-b64c-a0422014f9c1"
      },
      "execution_count": 26,
      "outputs": [
        {
          "output_type": "stream",
          "name": "stdout",
          "text": [
            "EV Tesla 100 kWh\n"
          ]
        }
      ]
    },
    {
      "cell_type": "markdown",
      "source": [
        "###  **4. Demonstrate polymorphism by creating a base class Bird with a method fly(). Create two derived classes Sparrow and Penguin that override the fly() method.**\n"
      ],
      "metadata": {
        "id": "1f8tY6202EO1"
      }
    },
    {
      "cell_type": "code",
      "source": [
        "class Bird:\n",
        "    def fly(self):\n",
        "        print(\"Bird is flying\")\n",
        "\n",
        "class Sparrow(Bird):\n",
        "    def fly(self):\n",
        "        print(\"Sparrow flies high\")\n",
        "\n",
        "class Penguin(Bird):\n",
        "    def fly(self):\n",
        "        print(\"Penguins can't fly\")\n",
        "\n",
        "for bird in [Sparrow(), Penguin()]:\n",
        "    bird.fly()\n"
      ],
      "metadata": {
        "colab": {
          "base_uri": "https://localhost:8080/"
        },
        "id": "iyBuFCvr2OAg",
        "outputId": "f2eb131b-fffc-4632-86aa-0442c2a40b91"
      },
      "execution_count": 27,
      "outputs": [
        {
          "output_type": "stream",
          "name": "stdout",
          "text": [
            "Sparrow flies high\n",
            "Penguins can't fly\n"
          ]
        }
      ]
    },
    {
      "cell_type": "markdown",
      "source": [
        "### **5. Write a program to demonstrate encapsulation by creating a class BankAccount with private attributes balance and methods to deposit, withdraw, and check balance.**"
      ],
      "metadata": {
        "id": "qhPuY1Bs2DGq"
      }
    },
    {
      "cell_type": "code",
      "source": [
        "class BankAccount:\n",
        "    def __init__(self):\n",
        "        self.__balance = 0\n",
        "\n",
        "    def deposit(self, amount):\n",
        "        self.__balance += amount\n",
        "\n",
        "    def withdraw(self, amount):\n",
        "        if amount <= self.__balance:\n",
        "            self.__balance -= amount\n",
        "        else:\n",
        "            print(\"Insufficient balance\")\n",
        "\n",
        "    def get_balance(self):\n",
        "        return self.__balance\n",
        "\n",
        "acc = BankAccount()\n",
        "acc.deposit(1000)\n",
        "acc.withdraw(500)\n",
        "print(acc.get_balance())\n"
      ],
      "metadata": {
        "colab": {
          "base_uri": "https://localhost:8080/"
        },
        "id": "f6sr2MjV2hjW",
        "outputId": "b987991b-6cc5-4f25-d299-dc7a53e7f00b"
      },
      "execution_count": 28,
      "outputs": [
        {
          "output_type": "stream",
          "name": "stdout",
          "text": [
            "500\n"
          ]
        }
      ]
    },
    {
      "cell_type": "markdown",
      "source": [
        "### **6. Demonstrate runtime polymorphism using a method play() in a base class Instrument. Derive classes Guitar and Piano that implement their own version of play().**"
      ],
      "metadata": {
        "id": "-jMsHixG2xEL"
      }
    },
    {
      "cell_type": "code",
      "source": [
        "class Instrument:\n",
        "    def play(self):\n",
        "        print(\"Instrument is playing\")\n",
        "\n",
        "class Guitar(Instrument):\n",
        "    def play(self):\n",
        "        print(\"Guitar is playing\")\n",
        "\n",
        "class Piano(Instrument):\n",
        "    def play(self):\n",
        "        print(\"Piano is playing\")\n",
        "\n",
        "for inst in [Guitar(), Piano()]:\n",
        "    inst.play()\n"
      ],
      "metadata": {
        "colab": {
          "base_uri": "https://localhost:8080/"
        },
        "id": "dZmqhurG3ERq",
        "outputId": "1e36961b-f670-473a-da1a-0721ee27dafc"
      },
      "execution_count": 29,
      "outputs": [
        {
          "output_type": "stream",
          "name": "stdout",
          "text": [
            "Guitar is playing\n",
            "Piano is playing\n"
          ]
        }
      ]
    },
    {
      "cell_type": "markdown",
      "source": [
        "### **7. Create a class MathOperations with a class method add_numbers() to add two numbers and a static method subtract_numbers() to subtract two numbers.**"
      ],
      "metadata": {
        "id": "OEIBM9xU3I_h"
      }
    },
    {
      "cell_type": "code",
      "source": [
        "class MathOperations:\n",
        "    @classmethod\n",
        "    def add_numbers(cls, a, b):\n",
        "        return a + b\n",
        "\n",
        "    @staticmethod\n",
        "    def subtract_numbers(a, b):\n",
        "        return a - b\n",
        "\n",
        "print(MathOperations.add_numbers(10, 5))\n",
        "print(MathOperations.subtract_numbers(10, 5))"
      ],
      "metadata": {
        "colab": {
          "base_uri": "https://localhost:8080/"
        },
        "id": "C_UBqatU3Rru",
        "outputId": "b9af4398-1879-4173-95e0-66c010b8d0de"
      },
      "execution_count": 30,
      "outputs": [
        {
          "output_type": "stream",
          "name": "stdout",
          "text": [
            "15\n",
            "5\n"
          ]
        }
      ]
    },
    {
      "cell_type": "markdown",
      "source": [
        "### **8. Implement a class Person with a class method to count the total number of persons created.**"
      ],
      "metadata": {
        "id": "PPZRN6JV3hgc"
      }
    },
    {
      "cell_type": "code",
      "source": [
        "class Person:\n",
        "    count = 0\n",
        "\n",
        "    def __init__(self):\n",
        "        Person.count += 1\n",
        "\n",
        "    @classmethod\n",
        "    def total_persons(cls):\n",
        "        return cls.count\n",
        "\n",
        "p1 = Person()\n",
        "p2 = Person()\n",
        "print(Person.total_persons())\n"
      ],
      "metadata": {
        "colab": {
          "base_uri": "https://localhost:8080/"
        },
        "id": "-CdBHRP-3j8P",
        "outputId": "66d31417-d1be-4752-f32b-906bd3a128c8"
      },
      "execution_count": 31,
      "outputs": [
        {
          "output_type": "stream",
          "name": "stdout",
          "text": [
            "2\n"
          ]
        }
      ]
    },
    {
      "cell_type": "markdown",
      "source": [
        "### **9. Write a class Fraction with attributes numerator and denominator. Override the str method to display the fraction as \"numerator/denominator\".**"
      ],
      "metadata": {
        "id": "vCu-MGyv3tON"
      }
    },
    {
      "cell_type": "code",
      "source": [
        "class Fraction:\n",
        "    def __init__(self, numerator, denominator):\n",
        "        self.numerator = numerator\n",
        "        self.denominator = denominator\n",
        "\n",
        "    def __str__(self):\n",
        "        return f\"{self.numerator}/{self.denominator}\"\n",
        "\n",
        "f = Fraction(3, 4)\n",
        "print(f)\n"
      ],
      "metadata": {
        "colab": {
          "base_uri": "https://localhost:8080/"
        },
        "id": "VhHp08Y830e1",
        "outputId": "bfb0c9a3-14da-4ff7-be8b-fed453304a67"
      },
      "execution_count": 32,
      "outputs": [
        {
          "output_type": "stream",
          "name": "stdout",
          "text": [
            "3/4\n"
          ]
        }
      ]
    },
    {
      "cell_type": "markdown",
      "source": [
        "### **10. Demonstrate operator overloading by creating a class Vector and overriding the add method to add two Vctors.**"
      ],
      "metadata": {
        "id": "cGLfMxWc359o"
      }
    },
    {
      "cell_type": "code",
      "source": [
        "class Vector:\n",
        "    def __init__(self, x, y):\n",
        "        self.x = x\n",
        "        self.y = y\n",
        "\n",
        "    def __add__(self, other):\n",
        "        return Vector(self.x + other.x, self.y + other.y)\n",
        "\n",
        "    def __str__(self):\n",
        "        return f\"({self.x}, {self.y})\"\n",
        "\n",
        "v1 = Vector(1, 2)\n",
        "v2 = Vector(3, 4)\n",
        "print(v1 + v2)\n"
      ],
      "metadata": {
        "colab": {
          "base_uri": "https://localhost:8080/"
        },
        "id": "WJI-0ufy4Eto",
        "outputId": "7664edb3-d6e1-4137-dc34-3ef4e38892ba"
      },
      "execution_count": 33,
      "outputs": [
        {
          "output_type": "stream",
          "name": "stdout",
          "text": [
            "(4, 6)\n"
          ]
        }
      ]
    },
    {
      "cell_type": "markdown",
      "source": [
        "### **11. Create a class Person with attributes name and age. Add a method greet() that prints \"Hello, my name is {name} and I am {age} years old.\"**"
      ],
      "metadata": {
        "id": "IwvHnmIh4Mxv"
      }
    },
    {
      "cell_type": "code",
      "source": [
        "class Person:\n",
        "    def __init__(self, name, age):\n",
        "        self.name = name\n",
        "        self.age = age\n",
        "\n",
        "    def greet(self):\n",
        "        print(f\"Hello, my name is {self.name} and I am {self.age} years old.\")\n",
        "\n",
        "p = Person(\"Abhijeet\", 22)\n",
        "p.greet()\n"
      ],
      "metadata": {
        "colab": {
          "base_uri": "https://localhost:8080/"
        },
        "id": "TcTI1jeq4ay-",
        "outputId": "4c54b455-1f0e-4c68-f792-fd3e1adb41b0"
      },
      "execution_count": 35,
      "outputs": [
        {
          "output_type": "stream",
          "name": "stdout",
          "text": [
            "Hello, my name is Abhijeet and I am 22 years old.\n"
          ]
        }
      ]
    },
    {
      "cell_type": "markdown",
      "source": [
        "### **12. Implement a class Student with attributes name and grades. Create a method average_grade() to compute the average of the grades.**"
      ],
      "metadata": {
        "id": "TNM3cXUn4t7t"
      }
    },
    {
      "cell_type": "code",
      "source": [
        "class Student:\n",
        "    def __init__(self, name, grades):\n",
        "        self.name = name\n",
        "        self.grades = grades\n",
        "\n",
        "    def average_grade(self):\n",
        "        return sum(self.grades) / len(self.grades)\n",
        "\n",
        "s = Student(\"Bob\", [80, 90, 70])\n",
        "print(s.average_grade())\n"
      ],
      "metadata": {
        "colab": {
          "base_uri": "https://localhost:8080/"
        },
        "id": "zT9HzkBP45gy",
        "outputId": "3283f552-8e21-4cae-8e42-cf47ae6ff60f"
      },
      "execution_count": 36,
      "outputs": [
        {
          "output_type": "stream",
          "name": "stdout",
          "text": [
            "80.0\n"
          ]
        }
      ]
    },
    {
      "cell_type": "markdown",
      "source": [
        "### **13. Create a class Rectangle with methods set_dimensions() to set the dimensions and area() to calculate the area.**"
      ],
      "metadata": {
        "id": "-D22eD5a4_9J"
      }
    },
    {
      "cell_type": "code",
      "source": [
        "class Rectangle:\n",
        "    def set_dimensions(self, width, height):\n",
        "        self.width = width\n",
        "        self.height = height\n",
        "\n",
        "    def area(self):\n",
        "        return self.width * self.height\n",
        "\n",
        "r = Rectangle()\n",
        "r.set_dimensions(5, 3)\n",
        "print(r.area())\n"
      ],
      "metadata": {
        "colab": {
          "base_uri": "https://localhost:8080/"
        },
        "id": "65TazVSn5L_a",
        "outputId": "6e32dcd5-054d-40f2-f559-1e7dcd5e9bd5"
      },
      "execution_count": 37,
      "outputs": [
        {
          "output_type": "stream",
          "name": "stdout",
          "text": [
            "15\n"
          ]
        }
      ]
    },
    {
      "cell_type": "markdown",
      "source": [
        "### **14. Create a class Employee with a method calculate_salary() that computes the salary based on hours worked and hourly rate. Create a derived class Manager that adds a bonus to the salary.**"
      ],
      "metadata": {
        "id": "GYEgMW2V5SL4"
      }
    },
    {
      "cell_type": "code",
      "source": [
        "class Employee:\n",
        "    def calculate_salary(self, hours, rate):\n",
        "        return hours * rate\n",
        "\n",
        "class Manager(Employee):\n",
        "    def calculate_salary(self, hours, rate, bonus):\n",
        "        base = super().calculate_salary(hours, rate)\n",
        "        return base + bonus\n",
        "\n",
        "m = Manager()\n",
        "print(m.calculate_salary(40, 50, 1000))\n"
      ],
      "metadata": {
        "colab": {
          "base_uri": "https://localhost:8080/"
        },
        "id": "JwuwKdwQ5eYY",
        "outputId": "6b7e3b81-9bf8-4419-c543-7fd38dbaa2b2"
      },
      "execution_count": 38,
      "outputs": [
        {
          "output_type": "stream",
          "name": "stdout",
          "text": [
            "3000\n"
          ]
        }
      ]
    },
    {
      "cell_type": "markdown",
      "source": [
        "### **15. Create a class Product with attributes name, price, and quantity. Implement a method total_price() that calculates the total price of the product.**"
      ],
      "metadata": {
        "id": "zut6_knb5zki"
      }
    },
    {
      "cell_type": "code",
      "source": [
        "class Product:\n",
        "    def __init__(self, name, price, quantity):\n",
        "        self.name = name\n",
        "        self.price = price\n",
        "        self.quantity = quantity\n",
        "\n",
        "    def total_price(self):\n",
        "        return self.price * self.quantity\n",
        "\n",
        "p = Product(\"Pen\", 10, 5)\n",
        "print(p.total_price())\n"
      ],
      "metadata": {
        "colab": {
          "base_uri": "https://localhost:8080/"
        },
        "id": "JVVYnG6759Kc",
        "outputId": "9e8d7fb0-f084-41ea-f5e4-a9d125d1d6c3"
      },
      "execution_count": 39,
      "outputs": [
        {
          "output_type": "stream",
          "name": "stdout",
          "text": [
            "50\n"
          ]
        }
      ]
    },
    {
      "cell_type": "markdown",
      "source": [
        "### **16. Create a class Animal with an abstract method sound(). Create two derived classes Cow and Sheep that implement the sound() method.**"
      ],
      "metadata": {
        "id": "eXXTuEhw6GW3"
      }
    },
    {
      "cell_type": "code",
      "source": [
        "from abc import ABC, abstractmethod\n",
        "\n",
        "class Animal(ABC):\n",
        "    @abstractmethod\n",
        "    def sound(self):\n",
        "        pass\n",
        "\n",
        "class Cow(Animal):\n",
        "    def sound(self):\n",
        "        print(\"Moo\")\n",
        "\n",
        "class Sheep(Animal):\n",
        "    def sound(self):\n",
        "        print(\"Baa\")\n",
        "\n",
        "Cow().sound()\n",
        "Sheep().sound()\n"
      ],
      "metadata": {
        "colab": {
          "base_uri": "https://localhost:8080/"
        },
        "id": "VmZU3Kae6NK8",
        "outputId": "5c06ae27-6f20-445a-de9a-9908149dd35d"
      },
      "execution_count": 40,
      "outputs": [
        {
          "output_type": "stream",
          "name": "stdout",
          "text": [
            "Moo\n",
            "Baa\n"
          ]
        }
      ]
    },
    {
      "cell_type": "markdown",
      "source": [
        "### **17. Create a class Book with attributes title, author, and year_published. Add a method get_book_info() that returns a formatted string with the book's details.**"
      ],
      "metadata": {
        "id": "XRZVx3fC6dni"
      }
    },
    {
      "cell_type": "code",
      "source": [
        "class Book:\n",
        "    def __init__(self, title, author, year_published):\n",
        "        self.title = title\n",
        "        self.author = author\n",
        "        self.year_published = year_published\n",
        "\n",
        "    def get_book_info(self):\n",
        "        return f\"{self.title} by {self.author}, published in {self.year_published}\"\n",
        "\n",
        "b = Book(\"1984\", \"George Orwell\", 1949)\n",
        "print(b.get_book_info())\n"
      ],
      "metadata": {
        "colab": {
          "base_uri": "https://localhost:8080/"
        },
        "id": "SIwiIYI-6jRk",
        "outputId": "c03c0d32-7cc7-4a5d-d8cf-53f9c873baa5"
      },
      "execution_count": 41,
      "outputs": [
        {
          "output_type": "stream",
          "name": "stdout",
          "text": [
            "1984 by George Orwell, published in 1949\n"
          ]
        }
      ]
    },
    {
      "cell_type": "markdown",
      "source": [
        "### **18. Create a class House with attributes address and price. Create a derived class Mansion that adds an attribute number_of_rooms.**"
      ],
      "metadata": {
        "id": "Bv15BEUb6rGG"
      }
    },
    {
      "cell_type": "code",
      "source": [
        "class House:\n",
        "    def __init__(self, address, price):\n",
        "        self.address = address\n",
        "        self.price = price\n",
        "\n",
        "class Mansion(House):\n",
        "    def __init__(self, address, price, number_of_rooms):\n",
        "        super().__init__(address, price)\n",
        "        self.number_of_rooms = number_of_rooms\n",
        "\n",
        "m = Mansion(\"Sector116,Noida\", 7000000, 5)\n",
        "print(m.address, m.price, m.number_of_rooms)\n"
      ],
      "metadata": {
        "colab": {
          "base_uri": "https://localhost:8080/"
        },
        "id": "DQJTp13F6vrn",
        "outputId": "186f99a1-e906-4ec5-e7aa-1eaff2073864"
      },
      "execution_count": 43,
      "outputs": [
        {
          "output_type": "stream",
          "name": "stdout",
          "text": [
            "Sector116,Noida 7000000 5\n"
          ]
        }
      ]
    }
  ]
}